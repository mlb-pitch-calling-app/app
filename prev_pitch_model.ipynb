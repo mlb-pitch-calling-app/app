{
 "metadata": {
  "orig_nbformat": 2,
  "kernelspec": {
   "name": "new_env",
   "display_name": "Python 3.11 (new_env)",
   "language": "python"
  }
 },
 "nbformat": 4,
 "nbformat_minor": 2,
 "cells": [
  {
   "cell_type": "code",
   "execution_count": 2,
   "metadata": {},
   "outputs": [],
   "source": [
    "import pandas as pd\n",
    "import numpy as np\n",
    "import seaborn as sns\n",
    "import matplotlib.pyplot as plt\n",
    "import matplotlib.patches as patches\n",
    "from itertools import product\n",
    "from scipy.ndimage import gaussian_filter\n",
    "from itertools import product\n",
    "import matplotlib.gridspec as gridspec\n",
    "import matplotlib.colors as mcolors\n",
    "from sklearn.cluster import KMeans\n",
    "from sklearn.preprocessing import StandardScaler\n",
    "import os\n",
    "from fpdf import FPDF\n",
    "import joblib\n",
    "from datetime import datetime\n",
    "import helper_functions as hf\n",
    "from constants import(\n",
    "    platoon_state_mapping,\n",
    "    side_buckets,\n",
    "    height_buckets,\n",
    "    count_values,\n",
    "    num_clusters,\n",
    "    numerical_features,\n",
    "    pseudo_sample_size,\n",
    "    median_features\n",
    ")\n",
    "import warnings\n",
    "warnings.filterwarnings('ignore')\n",
    "\n",
    "rv_model = joblib.load('rv_model.pkl')\n",
    "gmm_models = hf.load_gmm_models()\n",
    "\n",
    "pitches_df = pd.read_csv('all_pitches.csv')\n",
    "global_means = pd.read_csv('global_means.csv')\n",
    "\n",
    "pitches_df = hf.prepare_data(pitches_df, game_only=True)"
   ]
  },
  {
   "cell_type": "code",
   "execution_count": null,
   "metadata": {},
   "outputs": [],
   "source": [
    "pitches_df = hf.add_prev_pitch(pitches_df)"
   ]
  },
  {
   "cell_type": "code",
   "execution_count": null,
   "metadata": {},
   "outputs": [],
   "source": [
    "features = ['RelSpeed', 'SpinRate', 'SpinAxis', 'RelHeight', 'RelSide', 'Extension', \n",
    "            'PlateLocSideBucket', 'PlateLocHeightBucket', 'ax0', 'ay0', 'az0', \n",
    "            'avg_fb_RelSpeed', 'avg_fb_ax0', 'avg_fb_az0', 'avg_fb_RelHeight', 'avg_fb_RelSide',\n",
    "            'Year', 'BatterLeagueEncoded', 'PlatoonStateEncoded', 'Balls', 'Strikes', \n",
    "            'PitchGroupEncoded', 'BatterStuffValue', 'prev_pitch_RelSpeed', 'prev_pitch_HorzBreak', \n",
    "            'prev_pitch_InducedVertBreak', 'prev_pitch_PlateLocSideBucket', 'prev_pitch_PlateLocHeightBucket', \n",
    "            'prev_pitch_PitchCall', 'prev_pitch_SamePitch']"
   ]
  },
  {
   "cell_type": "code",
   "execution_count": null,
   "metadata": {},
   "outputs": [],
   "source": [
    "pitches_df = hf.add_probabilities(pitches_df)\n",
    "pitches_df, pivoted_values = hf.calculate_shrunken_means(pitches_df, global_means)\n",
    "pitches_df = hf.compute_batter_stuff_value(pitches_df, pivoted_values)"
   ]
  },
  {
   "cell_type": "code",
   "execution_count": 27,
   "metadata": {},
   "outputs": [],
   "source": [
    "model_df = pitches_df.dropna(subset=features + [rv_target])\n",
    "\n",
    "X = model_df[features]\n",
    "y = model_df[rv_target]"
   ]
  },
  {
   "cell_type": "code",
   "execution_count": 29,
   "metadata": {
    "tags": []
   },
   "outputs": [
    {
     "output_type": "stream",
     "name": "stderr",
     "text": [
      "[I 2025-02-06 17:49:36,963] A new study created in memory with name: no-name-f53a6aee-eba3-4e05-be15-fe39ab411118\n",
      "[I 2025-02-06 17:49:57,883] Trial 0 finished with value: 0.17567305408479886 and parameters: {'learning_rate': 0.06528988507548067, 'max_depth': 9, 'min_child_weight': 1, 'subsample': 0.6902466994590045, 'colsample_bytree': 0.5175318930651351, 'lambda': 0.7219060278096314, 'alpha': 0.09040594034290177, 'gamma': 4.323512470874525, 'n_estimators': 464}. Best is trial 0 with value: 0.17567305408479886.\n",
      "[I 2025-02-06 17:50:13,900] Trial 1 finished with value: 0.17585854822333352 and parameters: {'learning_rate': 0.24892702161183702, 'max_depth': 5, 'min_child_weight': 2, 'subsample': 0.6061623860029633, 'colsample_bytree': 0.5594909504232574, 'lambda': 3.100593503517779, 'alpha': 0.005531857025143086, 'gamma': 2.696261006863569, 'n_estimators': 399}. Best is trial 0 with value: 0.17567305408479886.\n",
      "[I 2025-02-06 17:50:25,573] Trial 2 finished with value: 0.17570225980412973 and parameters: {'learning_rate': 0.06056202894212254, 'max_depth': 4, 'min_child_weight': 4, 'subsample': 0.8594735201827526, 'colsample_bytree': 0.60369188258597, 'lambda': 0.3271121549032868, 'alpha': 0.1878437110354012, 'gamma': 1.282222656397198, 'n_estimators': 132}. Best is trial 0 with value: 0.17567305408479886.\n",
      "[I 2025-02-06 17:50:47,754] Trial 3 finished with value: 0.17413332607469958 and parameters: {'learning_rate': 0.05978070143747671, 'max_depth': 10, 'min_child_weight': 4, 'subsample': 0.5122318333329824, 'colsample_bytree': 0.784024278982872, 'lambda': 0.0013719963472656003, 'alpha': 0.4955036771375372, 'gamma': 1.3640375481847773, 'n_estimators': 345}. Best is trial 3 with value: 0.17413332607469958.\n",
      "[I 2025-02-06 17:51:00,170] Trial 4 finished with value: 0.1757142939068692 and parameters: {'learning_rate': 0.1001211564658734, 'max_depth': 7, 'min_child_weight': 3, 'subsample': 0.9967530117196239, 'colsample_bytree': 0.5472842948452052, 'lambda': 0.008673776427755357, 'alpha': 9.745312388851772, 'gamma': 4.954789082259479, 'n_estimators': 250}. Best is trial 3 with value: 0.17413332607469958.\n",
      "Best Parameters: {'learning_rate': 0.05978070143747671, 'max_depth': 10, 'min_child_weight': 4, 'subsample': 0.5122318333329824, 'colsample_bytree': 0.784024278982872, 'lambda': 0.0013719963472656003, 'alpha': 0.4955036771375372, 'gamma': 1.3640375481847773, 'n_estimators': 345}\n",
      "Previous Pitch Model saved!\n"
     ]
    }
   ],
   "source": [
    "import pandas as pd\n",
    "import joblib\n",
    "import helper_functions as hf\n",
    "import xgboost as xgb\n",
    "import optuna\n",
    "from sklearn.model_selection import cross_val_score, KFold\n",
    "from sklearn.metrics import make_scorer, mean_squared_error\n",
    "import numpy as np\n",
    "from constants import rv_features, rv_target\n",
    "import warnings\n",
    "warnings.filterwarnings('ignore')\n",
    "\n",
    "rmse_scorer = make_scorer(mean_squared_error, squared=False)\n",
    "\n",
    "def objective(trial):\n",
    "    params = {\n",
    "        'objective': 'reg:squarederror',\n",
    "        'eval_metric': 'rmse',\n",
    "        'learning_rate': trial.suggest_float('learning_rate', 0.01, 0.3),\n",
    "        'max_depth': trial.suggest_int('max_depth', 3, 10),\n",
    "        'min_child_weight': trial.suggest_int('min_child_weight', 1, 10),\n",
    "        'subsample': trial.suggest_float('subsample', 0.5, 1.0),\n",
    "        'colsample_bytree': trial.suggest_float('colsample_bytree', 0.5, 1.0),\n",
    "        'lambda': trial.suggest_float('lambda', 1e-3, 10.0, log=True),\n",
    "        'alpha': trial.suggest_float('alpha', 1e-3, 10.0, log=True),\n",
    "        'gamma': trial.suggest_float('gamma', 0.0, 5.0),\n",
    "        'n_estimators': trial.suggest_int('n_estimators', 50, 500)\n",
    "    }\n",
    "\n",
    "    model = xgb.XGBRegressor(**params, random_state=100)\n",
    "\n",
    "    kf = KFold(n_splits=5, shuffle=True, random_state=100)\n",
    "    cv_scores = cross_val_score(model, X, y, scoring=rmse_scorer, cv=kf)\n",
    "\n",
    "    return np.mean(cv_scores)\n",
    "\n",
    "prev_pitch_study = optuna.create_study(direction='minimize')\n",
    "prev_pitch_study.optimize(objective, n_trials=5)\n",
    "\n",
    "prev_pitch_best_params = prev_pitch_study.best_params\n",
    "prev_pitch_model = xgb.XGBRegressor(**prev_pitch_best_params, random_state=100)\n",
    "prev_pitch_model.fit(X, y)\n",
    "\n",
    "print(f\"Best Parameters: {prev_pitch_best_params}\")\n",
    "\n",
    "joblib.dump(prev_pitch_model, 'prev_pitch_model.pkl')\n",
    "\n",
    "print(\"Previous Pitch Model saved!\")"
   ]
  }
 ]
}